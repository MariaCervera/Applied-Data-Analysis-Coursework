{
 "cells": [
  {
   "cell_type": "code",
   "execution_count": 2,
   "metadata": {
    "collapsed": false
   },
   "outputs": [],
   "source": [
    "import numpy as np\n",
    "import pandas as pd\n",
    "import folium\n",
    "import matplotlib.pyplot as plt\n",
    "from bs4 import BeautifulSoup\n",
    "import json\n",
    "%matplotlib inline\n"
   ]
  },
  {
   "cell_type": "code",
   "execution_count": 3,
   "metadata": {
    "collapsed": false
   },
   "outputs": [],
   "source": [
    "# find the canton id in the json file\n",
    "with open('ch-cantons.topojson.json') as data_file:    \n",
    "    data = json.load(data_file)\n",
    "canton_id=[]\n",
    "for i in range(len(data[\"objects\"]['cantons']['geometries'])):\n",
    "    canton_id.append(data[\"objects\"]['cantons']['geometries'][i]['id'])"
   ]
  },
  {
   "cell_type": "code",
   "execution_count": 4,
   "metadata": {
    "collapsed": false
   },
   "outputs": [],
   "source": [
    "#import the grant data\n",
    "data=pd.read_csv('P3_GrantExport.csv',sep=';')"
   ]
  },
  {
   "cell_type": "code",
   "execution_count": 5,
   "metadata": {
    "collapsed": false
   },
   "outputs": [],
   "source": [
    "#drop every column except university institution and approved amount\n",
    "data=data.drop(data.columns[[0,1,2,3,4,5,8,9,10,11,12,14]], axis=1)\n",
    "\n",
    "#drop the data for which we dont have or university or institution\n",
    "double_NaN_idx = data[pd.isnull(data['University']) & pd.isnull(data['Institution'])].index.values \n",
    "data = data.drop(data.index[[double_NaN_idx]],axis=0)\n",
    "data = data.reset_index('level_0')\n",
    "data = data.drop('index', axis=1)\n",
    "\n",
    "#drop the data for which we have no amount\n",
    "no_amount_idx = data[np.equal(data['Approved Amount'], 'data not included in P3')].index.values\n",
    "data = data.drop(data.index[[no_amount_idx]],axis=0)\n",
    "data = data.reset_index('level_0')\n",
    "data = data.drop('index', axis=1)\n",
    "\n",
    "#drop the data for the money sent abroad\n",
    "#list of the codes for the countries to drop\n",
    "str_todrop=['USA','DK', 'GB', 'AUS', 'CDN', 'D', 'EAK', 'F', 'I', 'NL', 'YU', 'E', 'BR', 'RA', 'S', 'SA', 'PNG', 'A', 'CO', 'SF','J', 'NZ', 'IR','H']\n",
    "abroad_idx = []\n",
    "for i in str_todrop:\n",
    "    idx = []\n",
    "    idx = data[(pd.isnull(data['University'])) & (data['Institution'].str.endswith(i)==True)].index.values\n",
    "    abroad_idx = np.concatenate((abroad_idx, idx), axis=0)\n",
    "data = data.drop(data.index[[abroad_idx.astype(int)]],axis=0)\n",
    "data = data.reset_index('level_0')\n",
    "data = data.drop('index', axis=1)\n",
    "\n",
    "# transform the approved amount in float\n",
    "data['Approved Amount']=data['Approved Amount'].astype(float)"
   ]
  },
  {
   "cell_type": "code",
   "execution_count": 6,
   "metadata": {
    "collapsed": false
   },
   "outputs": [],
   "source": [
    "#keep the data for which we have the university\n",
    "\n",
    "#to_drop=data[pd.isnull(data['University'])].index.values\n",
    "to_drop=data[pd.isnull(data['University'])].index.values\n",
    "\n",
    "#we also have to remove the data that endswith NPO or NA (the line university doesn't contain information)\n",
    "to_dropNA=data[data.University.str.endswith('NA')==True].index.values\n",
    "to_dropNPO=data[data.University.str.endswith('NPO')==True].index.values\n",
    "\n",
    "#concatenate them to drop all at once\n",
    "to_drop2=np.concatenate((to_drop,to_dropNA, to_dropNPO),axis=0)\n",
    "\n",
    "#create the dataframe with the grants for which we have the university info\n",
    "data_uni=data.drop(data.index[[to_drop2]],axis=0)\n",
    "# reset the index\n",
    "data_uni.reset_index(inplace=True)\n",
    "#remove the old index column\n",
    "data_uni=data_uni.drop(data_uni.columns[0], axis=1)\n"
   ]
  },
  {
   "cell_type": "code",
   "execution_count": 7,
   "metadata": {
    "collapsed": false
   },
   "outputs": [
    {
     "data": {
      "text/plain": [
       "0.9079623702841625"
      ]
     },
     "execution_count": 7,
     "metadata": {},
     "output_type": "execute_result"
    }
   ],
   "source": [
    "#we have 90% of the exploitable data (that is in switzerland)\n",
    "len(data_uni)/len(data)\n"
   ]
  },
  {
   "cell_type": "code",
   "execution_count": 8,
   "metadata": {
    "collapsed": false
   },
   "outputs": [],
   "source": [
    "#add a column for the canton\n",
    "data_uni[\"Canton\"] = \"\"\n"
   ]
  },
  {
   "cell_type": "code",
   "execution_count": 22,
   "metadata": {
    "collapsed": false
   },
   "outputs": [
    {
     "name": "stderr",
     "output_type": "stream",
     "text": [
      "/Users/lugrinclaire/anaconda/lib/python3.5/site-packages/ipykernel/__main__.py:12: SettingWithCopyWarning: \n",
      "A value is trying to be set on a copy of a slice from a DataFrame\n",
      "\n",
      "See the caveats in the documentation: http://pandas.pydata.org/pandas-docs/stable/indexing.html#indexing-view-versus-copy\n",
      "/Users/lugrinclaire/anaconda/lib/python3.5/site-packages/ipykernel/__main__.py:14: SettingWithCopyWarning: \n",
      "A value is trying to be set on a copy of a slice from a DataFrame\n",
      "\n",
      "See the caveats in the documentation: http://pandas.pydata.org/pandas-docs/stable/indexing.html#indexing-view-versus-copy\n"
     ]
    },
    {
     "data": {
      "text/html": [
       "<div>\n",
       "<table border=\"1\" class=\"dataframe\">\n",
       "  <thead>\n",
       "    <tr style=\"text-align: right;\">\n",
       "      <th></th>\n",
       "      <th>Institution</th>\n",
       "      <th>University</th>\n",
       "      <th>Approved Amount</th>\n",
       "      <th>Canton</th>\n",
       "    </tr>\n",
       "  </thead>\n",
       "  <tbody>\n",
       "    <tr>\n",
       "      <th>0</th>\n",
       "      <td>Faculté de Psychologie et des Sciences de l'Ed...</td>\n",
       "      <td>Université de Genève - GE</td>\n",
       "      <td>41022.0</td>\n",
       "      <td>GE</td>\n",
       "    </tr>\n",
       "    <tr>\n",
       "      <th>1</th>\n",
       "      <td>Abt. Handschriften und Alte Drucke Bibliothek ...</td>\n",
       "      <td>Universität Basel - BS</td>\n",
       "      <td>52627.0</td>\n",
       "      <td>BS</td>\n",
       "    </tr>\n",
       "    <tr>\n",
       "      <th>2</th>\n",
       "      <td>Séminaire de politique économique, d'économie ...</td>\n",
       "      <td>Université de Fribourg - FR</td>\n",
       "      <td>53009.0</td>\n",
       "      <td>FR</td>\n",
       "    </tr>\n",
       "    <tr>\n",
       "      <th>3</th>\n",
       "      <td>Institut für ökumenische Studien Université de...</td>\n",
       "      <td>Université de Fribourg - FR</td>\n",
       "      <td>25403.0</td>\n",
       "      <td>FR</td>\n",
       "    </tr>\n",
       "    <tr>\n",
       "      <th>4</th>\n",
       "      <td>Ostasiatisches Seminar Universität Zürich</td>\n",
       "      <td>Universität Zürich - ZH</td>\n",
       "      <td>47100.0</td>\n",
       "      <td>ZH</td>\n",
       "    </tr>\n",
       "  </tbody>\n",
       "</table>\n",
       "</div>"
      ],
      "text/plain": [
       "                                         Institution  \\\n",
       "0  Faculté de Psychologie et des Sciences de l'Ed...   \n",
       "1  Abt. Handschriften und Alte Drucke Bibliothek ...   \n",
       "2  Séminaire de politique économique, d'économie ...   \n",
       "3  Institut für ökumenische Studien Université de...   \n",
       "4          Ostasiatisches Seminar Universität Zürich   \n",
       "\n",
       "                    University  Approved Amount Canton  \n",
       "0    Université de Genève - GE          41022.0     GE  \n",
       "1       Universität Basel - BS          52627.0     BS  \n",
       "2  Université de Fribourg - FR          53009.0     FR  \n",
       "3  Université de Fribourg - FR          25403.0     FR  \n",
       "4      Universität Zürich - ZH          47100.0     ZH  "
      ]
     },
     "execution_count": 22,
     "metadata": {},
     "output_type": "execute_result"
    }
   ],
   "source": [
    "#find where is the -\n",
    "tiret=data_uni.University.str.find('-').astype(int)\n",
    "#for each line\n",
    "canton=[]\n",
    "for i in range(len(data_uni)):\n",
    "    # keep everything that is after that\n",
    "    canton=data_uni.University[[i]].str[tiret[i]+2:]\n",
    "    \n",
    "    #########ATTTENTIOOOOOOOOON A changer!!!\n",
    "    if str(canton.values[0]) in canton_id:\n",
    "        #write the canton in the canton column\n",
    "        data_uni.Canton[[i]]=canton\n",
    "    else:\n",
    "        data_uni.Canton[[i]]='ZH'\n",
    "data_uni.head()\n",
    "\n",
    "\n",
    "# we have to replce LA with VD and probably some other things"
   ]
  },
  {
   "cell_type": "code",
   "execution_count": 24,
   "metadata": {
    "collapsed": false
   },
   "outputs": [],
   "source": [
    "data_uni.to_pickle('data_uni_fake')"
   ]
  },
  {
   "cell_type": "code",
   "execution_count": 25,
   "metadata": {
    "collapsed": false
   },
   "outputs": [
    {
     "data": {
      "text/plain": [
       "array(['GE', 'BS', 'FR', 'ZH', 'BE', 'NE', 'SG', 'LU'], dtype=object)"
      ]
     },
     "execution_count": 25,
     "metadata": {},
     "output_type": "execute_result"
    }
   ],
   "source": [
    "data_uni.Canton.unique()"
   ]
  },
  {
   "cell_type": "code",
   "execution_count": 43,
   "metadata": {
    "collapsed": false
   },
   "outputs": [
    {
     "data": {
      "text/html": [
       "<div>\n",
       "<table border=\"1\" class=\"dataframe\">\n",
       "  <thead>\n",
       "    <tr style=\"text-align: right;\">\n",
       "      <th></th>\n",
       "    </tr>\n",
       "  </thead>\n",
       "  <tbody>\n",
       "    <tr>\n",
       "      <th>ZH</th>\n",
       "    </tr>\n",
       "    <tr>\n",
       "      <th>BE</th>\n",
       "    </tr>\n",
       "    <tr>\n",
       "      <th>LU</th>\n",
       "    </tr>\n",
       "    <tr>\n",
       "      <th>UR</th>\n",
       "    </tr>\n",
       "    <tr>\n",
       "      <th>SZ</th>\n",
       "    </tr>\n",
       "    <tr>\n",
       "      <th>OW</th>\n",
       "    </tr>\n",
       "    <tr>\n",
       "      <th>NW</th>\n",
       "    </tr>\n",
       "    <tr>\n",
       "      <th>GL</th>\n",
       "    </tr>\n",
       "    <tr>\n",
       "      <th>ZG</th>\n",
       "    </tr>\n",
       "    <tr>\n",
       "      <th>FR</th>\n",
       "    </tr>\n",
       "    <tr>\n",
       "      <th>SO</th>\n",
       "    </tr>\n",
       "    <tr>\n",
       "      <th>BS</th>\n",
       "    </tr>\n",
       "    <tr>\n",
       "      <th>BL</th>\n",
       "    </tr>\n",
       "    <tr>\n",
       "      <th>SH</th>\n",
       "    </tr>\n",
       "    <tr>\n",
       "      <th>AR</th>\n",
       "    </tr>\n",
       "    <tr>\n",
       "      <th>AI</th>\n",
       "    </tr>\n",
       "    <tr>\n",
       "      <th>SG</th>\n",
       "    </tr>\n",
       "    <tr>\n",
       "      <th>GR</th>\n",
       "    </tr>\n",
       "    <tr>\n",
       "      <th>AG</th>\n",
       "    </tr>\n",
       "    <tr>\n",
       "      <th>TG</th>\n",
       "    </tr>\n",
       "    <tr>\n",
       "      <th>TI</th>\n",
       "    </tr>\n",
       "    <tr>\n",
       "      <th>VD</th>\n",
       "    </tr>\n",
       "    <tr>\n",
       "      <th>VS</th>\n",
       "    </tr>\n",
       "    <tr>\n",
       "      <th>NE</th>\n",
       "    </tr>\n",
       "    <tr>\n",
       "      <th>GE</th>\n",
       "    </tr>\n",
       "    <tr>\n",
       "      <th>JU</th>\n",
       "    </tr>\n",
       "  </tbody>\n",
       "</table>\n",
       "</div>"
      ],
      "text/plain": [
       "Empty DataFrame\n",
       "Columns: []\n",
       "Index: [ZH, BE, LU, UR, SZ, OW, NW, GL, ZG, FR, SO, BS, BL, SH, AR, AI, SG, GR, AG, TG, TI, VD, VS, NE, GE, JU]"
      ]
     },
     "execution_count": 43,
     "metadata": {},
     "output_type": "execute_result"
    }
   ],
   "source": [
    "data_grouped=pd.DataFrame([],index=canton_id)\n",
    "data_grouped"
   ]
  },
  {
   "cell_type": "code",
   "execution_count": 61,
   "metadata": {
    "collapsed": false
   },
   "outputs": [
    {
     "data": {
      "text/html": [
       "<div>\n",
       "<table border=\"1\" class=\"dataframe\">\n",
       "  <thead>\n",
       "    <tr style=\"text-align: right;\">\n",
       "      <th></th>\n",
       "      <th>Money</th>\n",
       "    </tr>\n",
       "    <tr>\n",
       "      <th>Canton</th>\n",
       "      <th></th>\n",
       "    </tr>\n",
       "  </thead>\n",
       "  <tbody>\n",
       "    <tr>\n",
       "      <th>ZH</th>\n",
       "      <td>6.841544e+09</td>\n",
       "    </tr>\n",
       "    <tr>\n",
       "      <th>BE</th>\n",
       "      <td>1.519373e+09</td>\n",
       "    </tr>\n",
       "    <tr>\n",
       "      <th>LU</th>\n",
       "      <td>3.998168e+07</td>\n",
       "    </tr>\n",
       "    <tr>\n",
       "      <th>UR</th>\n",
       "      <td>0.000000e+00</td>\n",
       "    </tr>\n",
       "    <tr>\n",
       "      <th>SZ</th>\n",
       "      <td>0.000000e+00</td>\n",
       "    </tr>\n",
       "    <tr>\n",
       "      <th>OW</th>\n",
       "      <td>0.000000e+00</td>\n",
       "    </tr>\n",
       "    <tr>\n",
       "      <th>NW</th>\n",
       "      <td>0.000000e+00</td>\n",
       "    </tr>\n",
       "    <tr>\n",
       "      <th>GL</th>\n",
       "      <td>0.000000e+00</td>\n",
       "    </tr>\n",
       "    <tr>\n",
       "      <th>ZG</th>\n",
       "      <td>0.000000e+00</td>\n",
       "    </tr>\n",
       "    <tr>\n",
       "      <th>FR</th>\n",
       "      <td>4.575262e+08</td>\n",
       "    </tr>\n",
       "    <tr>\n",
       "      <th>SO</th>\n",
       "      <td>0.000000e+00</td>\n",
       "    </tr>\n",
       "    <tr>\n",
       "      <th>BS</th>\n",
       "      <td>1.352251e+09</td>\n",
       "    </tr>\n",
       "    <tr>\n",
       "      <th>BL</th>\n",
       "      <td>0.000000e+00</td>\n",
       "    </tr>\n",
       "    <tr>\n",
       "      <th>SH</th>\n",
       "      <td>0.000000e+00</td>\n",
       "    </tr>\n",
       "    <tr>\n",
       "      <th>AR</th>\n",
       "      <td>0.000000e+00</td>\n",
       "    </tr>\n",
       "    <tr>\n",
       "      <th>AI</th>\n",
       "      <td>0.000000e+00</td>\n",
       "    </tr>\n",
       "    <tr>\n",
       "      <th>SG</th>\n",
       "      <td>6.919495e+07</td>\n",
       "    </tr>\n",
       "    <tr>\n",
       "      <th>GR</th>\n",
       "      <td>0.000000e+00</td>\n",
       "    </tr>\n",
       "    <tr>\n",
       "      <th>AG</th>\n",
       "      <td>0.000000e+00</td>\n",
       "    </tr>\n",
       "    <tr>\n",
       "      <th>TG</th>\n",
       "      <td>0.000000e+00</td>\n",
       "    </tr>\n",
       "    <tr>\n",
       "      <th>TI</th>\n",
       "      <td>0.000000e+00</td>\n",
       "    </tr>\n",
       "    <tr>\n",
       "      <th>VD</th>\n",
       "      <td>0.000000e+00</td>\n",
       "    </tr>\n",
       "    <tr>\n",
       "      <th>VS</th>\n",
       "      <td>0.000000e+00</td>\n",
       "    </tr>\n",
       "    <tr>\n",
       "      <th>NE</th>\n",
       "      <td>3.832046e+08</td>\n",
       "    </tr>\n",
       "    <tr>\n",
       "      <th>GE</th>\n",
       "      <td>1.838237e+09</td>\n",
       "    </tr>\n",
       "    <tr>\n",
       "      <th>JU</th>\n",
       "      <td>0.000000e+00</td>\n",
       "    </tr>\n",
       "  </tbody>\n",
       "</table>\n",
       "</div>"
      ],
      "text/plain": [
       "               Money\n",
       "Canton              \n",
       "ZH      6.841544e+09\n",
       "BE      1.519373e+09\n",
       "LU      3.998168e+07\n",
       "UR      0.000000e+00\n",
       "SZ      0.000000e+00\n",
       "OW      0.000000e+00\n",
       "NW      0.000000e+00\n",
       "GL      0.000000e+00\n",
       "ZG      0.000000e+00\n",
       "FR      4.575262e+08\n",
       "SO      0.000000e+00\n",
       "BS      1.352251e+09\n",
       "BL      0.000000e+00\n",
       "SH      0.000000e+00\n",
       "AR      0.000000e+00\n",
       "AI      0.000000e+00\n",
       "SG      6.919495e+07\n",
       "GR      0.000000e+00\n",
       "AG      0.000000e+00\n",
       "TG      0.000000e+00\n",
       "TI      0.000000e+00\n",
       "VD      0.000000e+00\n",
       "VS      0.000000e+00\n",
       "NE      3.832046e+08\n",
       "GE      1.838237e+09\n",
       "JU      0.000000e+00"
      ]
     },
     "execution_count": 61,
     "metadata": {},
     "output_type": "execute_result"
    }
   ],
   "source": [
    "#sum all the data per canton\n",
    "data_grouped=pd.DataFrame([])\n",
    "money=[]\n",
    "for i in canton_id:\n",
    "    money.append(np.sum(data_uni['Approved Amount'][data_uni.Canton==i]))\n",
    "data_grouped['Canton']=canton_id\n",
    "data_grouped['Money']=money\n",
    "data_grouped.set_index('Canton')"
   ]
  },
  {
   "cell_type": "code",
   "execution_count": null,
   "metadata": {
    "collapsed": true
   },
   "outputs": [],
   "source": []
  },
  {
   "cell_type": "code",
   "execution_count": null,
   "metadata": {
    "collapsed": true
   },
   "outputs": [],
   "source": [
    "#import the topojson map\n",
    "topo_path = r'ch-cantons.topojson.json'\n",
    "swiss_map = folium.Map(location=[47, 8],\n",
    "                   tiles='Mapbox Bright', zoom_start=2)"
   ]
  },
  {
   "cell_type": "code",
   "execution_count": null,
   "metadata": {
    "collapsed": true
   },
   "outputs": [],
   "source": [
    "#To use a Dataframe (in the DF, I used the id as the _Cantons_ and I put random values inside the _Values_ field), you need to do this:\n",
    "swiss_map.choropleth(geo_path=cantons_geo, \n",
    "                     data=df,\n",
    "                     columns=['Cantons', 'Values'],\n",
    "                     key_on='feature.id',\n",
    "                     topojson='objects.cantons',\n",
    "                     fill_color='YlGn',\n",
    "                     legend_name = 'Random numbers'\n",
    "                    )\n",
    "\n",
    "#In you DataFrame, you must be sure that *all the id present in the topojson are also present in the column of the DF*. If it's not the case, just add the missing ids.."
   ]
  },
  {
   "cell_type": "code",
   "execution_count": null,
   "metadata": {
    "collapsed": true
   },
   "outputs": [],
   "source": []
  }
 ],
 "metadata": {
  "anaconda-cloud": {},
  "kernelspec": {
   "display_name": "Python [conda root]",
   "language": "python",
   "name": "conda-root-py"
  },
  "language_info": {
   "codemirror_mode": {
    "name": "ipython",
    "version": 3
   },
   "file_extension": ".py",
   "mimetype": "text/x-python",
   "name": "python",
   "nbconvert_exporter": "python",
   "pygments_lexer": "ipython3",
   "version": "3.5.2"
  }
 },
 "nbformat": 4,
 "nbformat_minor": 1
}
