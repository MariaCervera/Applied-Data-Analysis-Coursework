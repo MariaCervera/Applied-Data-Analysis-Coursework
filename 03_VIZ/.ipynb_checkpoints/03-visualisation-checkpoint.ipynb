{
 "cells": [
  {
   "cell_type": "code",
   "execution_count": 2,
   "metadata": {
    "collapsed": false
   },
   "outputs": [],
   "source": [
    "import numpy as np\n",
    "import pandas as pd\n",
    "import folium\n",
    "import matplotlib.pyplot as plt\n",
    "from bs4 import BeautifulSoup\n",
    "import json\n",
    "%matplotlib inline\n"
   ]
  },
  {
   "cell_type": "code",
   "execution_count": 3,
   "metadata": {
    "collapsed": false
   },
   "outputs": [],
   "source": [
    "# find the canton id in the json file\n",
    "with open('ch-cantons.topojson.json') as data_file:    \n",
    "    data = json.load(data_file)\n",
    "canton_id=[]\n",
    "for i in range(len(data[\"objects\"]['cantons']['geometries'])):\n",
    "    canton_id.append(data[\"objects\"]['cantons']['geometries'][i]['id'])"
   ]
  },
  {
   "cell_type": "code",
   "execution_count": 4,
   "metadata": {
    "collapsed": false
   },
   "outputs": [],
   "source": [
    "#import the grant data\n",
    "data=pd.read_csv('P3_GrantExport.csv',sep=';')"
   ]
  },
  {
   "cell_type": "code",
   "execution_count": 5,
   "metadata": {
    "collapsed": false
   },
   "outputs": [],
   "source": [
    "#drop every column except university institution and approved amount\n",
    "data=data.drop(data.columns[[0,1,2,3,4,5,8,9,10,11,12,14]], axis=1)\n",
    "\n",
    "#drop the data for which we dont have or university or institution\n",
    "double_NaN_idx = data[pd.isnull(data['University']) & pd.isnull(data['Institution'])].index.values \n",
    "data = data.drop(data.index[[double_NaN_idx]],axis=0)\n",
    "data = data.reset_index('level_0')\n",
    "data = data.drop('index', axis=1)\n",
    "\n",
    "#drop the data for which we have no amount\n",
    "no_amount_idx = data[np.equal(data['Approved Amount'], 'data not included in P3')].index.values\n",
    "data = data.drop(data.index[[no_amount_idx]],axis=0)\n",
    "data = data.reset_index('level_0')\n",
    "data = data.drop('index', axis=1)\n",
    "\n",
    "#drop the data for the money sent abroad\n",
    "#list of the codes for the countries to drop\n",
    "str_todrop=['USA','DK', 'GB', 'AUS', 'CDN', 'D', 'EAK', 'F', 'I', 'NL', 'YU', 'E', 'BR', 'RA', 'S', 'SA', 'PNG', 'A', 'CO', 'SF','J', 'NZ', 'IR','H']\n",
    "abroad_idx = []\n",
    "for i in str_todrop:\n",
    "    idx = []\n",
    "    idx = data[(pd.isnull(data['University'])) & (data['Institution'].str.endswith(i)==True)].index.values\n",
    "    abroad_idx = np.concatenate((abroad_idx, idx), axis=0)\n",
    "data = data.drop(data.index[[abroad_idx.astype(int)]],axis=0)\n",
    "data = data.reset_index('level_0')\n",
    "data = data.drop('index', axis=1)\n",
    "\n",
    "# transform the approved amount in float\n",
    "data['Approved Amount']=data['Approved Amount'].astype(float)"
   ]
  },
  {
   "cell_type": "code",
   "execution_count": 6,
   "metadata": {
    "collapsed": false
   },
   "outputs": [],
   "source": [
    "#keep the data for which we have the university\n",
    "\n",
    "#to_drop=data[pd.isnull(data['University'])].index.values\n",
    "to_drop=data[pd.isnull(data['University'])].index.values\n",
    "\n",
    "#we also have to remove the data that endswith NPO or NA (the line university doesn't contain information)\n",
    "to_dropNA=data[data.University.str.endswith('NA')==True].index.values\n",
    "to_dropNPO=data[data.University.str.endswith('NPO')==True].index.values\n",
    "\n",
    "#concatenate them to drop all at once\n",
    "to_drop2=np.concatenate((to_drop,to_dropNA, to_dropNPO),axis=0)\n",
    "\n",
    "#create the dataframe with the grants for which we have the university info\n",
    "data_uni=data.drop(data.index[[to_drop2]],axis=0)\n",
    "# reset the index\n",
    "data_uni.reset_index(inplace=True)\n",
    "#remove the old index column\n",
    "data_uni=data_uni.drop(data_uni.columns[0], axis=1)\n"
   ]
  },
  {
   "cell_type": "code",
   "execution_count": 7,
   "metadata": {
    "collapsed": false
   },
   "outputs": [
    {
     "data": {
      "text/plain": [
       "0.9079623702841625"
      ]
     },
     "execution_count": 7,
     "metadata": {},
     "output_type": "execute_result"
    }
   ],
   "source": [
    "#we have 90% of the exploitable data (that is in switzerland)\n",
    "len(data_uni)/len(data)\n"
   ]
  },
  {
   "cell_type": "code",
   "execution_count": 8,
   "metadata": {
    "collapsed": false
   },
   "outputs": [],
   "source": [
    "#add a column for the canton\n",
    "data_uni[\"Canton\"] = \"\"\n"
   ]
  },
  {
   "cell_type": "code",
   "execution_count": null,
   "metadata": {
    "collapsed": false
   },
   "outputs": [
    {
     "name": "stderr",
     "output_type": "stream",
     "text": [
      "/Users/lugrinclaire/anaconda/lib/python3.5/site-packages/ipykernel/__main__.py:12: SettingWithCopyWarning: \n",
      "A value is trying to be set on a copy of a slice from a DataFrame\n",
      "\n",
      "See the caveats in the documentation: http://pandas.pydata.org/pandas-docs/stable/indexing.html#indexing-view-versus-copy\n",
      "/Users/lugrinclaire/anaconda/lib/python3.5/site-packages/ipykernel/__main__.py:14: SettingWithCopyWarning: \n",
      "A value is trying to be set on a copy of a slice from a DataFrame\n",
      "\n",
      "See the caveats in the documentation: http://pandas.pydata.org/pandas-docs/stable/indexing.html#indexing-view-versus-copy\n"
     ]
    }
   ],
   "source": [
    "#find where is the -\n",
    "tiret=data_uni.University.str.find('-').astype(int)\n",
    "#for each line\n",
    "canton=[]\n",
    "for i in range(len(data_uni)):\n",
    "    # keep everything that is after that\n",
    "    canton=data_uni.University[[i]].str[tiret[i]+2:]\n",
    "    \n",
    "    #########ATTTENTIOOOOOOOOON A changer!!!\n",
    "    if str(canton.values[0]) in canton_id:\n",
    "        #write the canton in the canton column\n",
    "        data_uni.Canton[[i]]=canton\n",
    "    else:\n",
    "        data_uni.Canton[[i]]='ZH'\n",
    "data_uni.head()"
   ]
  },
  {
   "cell_type": "code",
   "execution_count": 21,
   "metadata": {
    "collapsed": false
   },
   "outputs": [
    {
     "data": {
      "text/plain": [
       "'GE'"
      ]
     },
     "execution_count": 21,
     "metadata": {},
     "output_type": "execute_result"
    }
   ],
   "source": [
    "str(canton.values[0])"
   ]
  },
  {
   "cell_type": "code",
   "execution_count": 10,
   "metadata": {
    "collapsed": false
   },
   "outputs": [
    {
     "data": {
      "text/plain": [
       "array(['GE', 'BS', 'FR', 'ZH', 'LA', 'BE', 'WSL', 'NE', 'ETHZ', 'IHEID',\n",
       "       'SG', 'FINST', 'FP', 'PHGR', 'EPFL', 'PHZFH', 'LU', 'SIK-ISEA',\n",
       "       'SUPSI', 'HES-SO', 'tiftung Bern - RWS', 'PSI', 'PHSG', 'EAWAG',\n",
       "       'EMPA', 'eteorolog. Observatorium Davos - PMOD', 'BFH', 'CSEM',\n",
       "       'ASPIT', 'AORI', 'und Asthmaforschung - SIAF', 'FIBL', 'FMI',\n",
       "       'KSPSG', 'AGS', 'EOC', 'IST', 'EHB', 'ZFH', 'USI', 'IKG', 'FHNW',\n",
       "       'HfH', 'CREALP', 'IDIAP', 'PHBern', 'IUKB', 'SPF', 'HSLU', 'IRO',\n",
       "       'HEPL', 'FHO', 'ISSKA', 'SIB', 'HEPBEJUNE', 'PHLU',\n",
       "       'orschungskommission SAGW', 'ISR', 'ASP', 'HEPFR', 'PHSZ', 'PHTG',\n",
       "       'BITG', 'FHKD', 'FORS', 'PHVS', 'SHLR', 'PHZG', 'IRSOL', 'FUS',\n",
       "       'PHSH', 'PHFHNW', 'STHB', 'FTL', 'FFHS'], dtype=object)"
      ]
     },
     "execution_count": 10,
     "metadata": {},
     "output_type": "execute_result"
    }
   ],
   "source": [
    "data_uni.Canton.unique()"
   ]
  },
  {
   "cell_type": "code",
   "execution_count": 36,
   "metadata": {
    "collapsed": false
   },
   "outputs": [
    {
     "data": {
      "text/html": [
       "<div>\n",
       "<table border=\"1\" class=\"dataframe\">\n",
       "  <thead>\n",
       "    <tr style=\"text-align: right;\">\n",
       "      <th></th>\n",
       "      <th>Approved Amount</th>\n",
       "    </tr>\n",
       "    <tr>\n",
       "      <th>Canton</th>\n",
       "      <th></th>\n",
       "    </tr>\n",
       "  </thead>\n",
       "  <tbody>\n",
       "    <tr>\n",
       "      <th>AGS</th>\n",
       "      <td>3.311572e+07</td>\n",
       "    </tr>\n",
       "    <tr>\n",
       "      <th>AORI</th>\n",
       "      <td>3.435621e+06</td>\n",
       "    </tr>\n",
       "    <tr>\n",
       "      <th>ASP</th>\n",
       "      <td>1.593170e+05</td>\n",
       "    </tr>\n",
       "    <tr>\n",
       "      <th>ASPIT</th>\n",
       "      <td>1.074981e+07</td>\n",
       "    </tr>\n",
       "    <tr>\n",
       "      <th>BE</th>\n",
       "      <td>1.519373e+09</td>\n",
       "    </tr>\n",
       "    <tr>\n",
       "      <th>BFH</th>\n",
       "      <td>3.102870e+07</td>\n",
       "    </tr>\n",
       "    <tr>\n",
       "      <th>BITG</th>\n",
       "      <td>2.492535e+06</td>\n",
       "    </tr>\n",
       "    <tr>\n",
       "      <th>BS</th>\n",
       "      <td>1.352251e+09</td>\n",
       "    </tr>\n",
       "    <tr>\n",
       "      <th>CREALP</th>\n",
       "      <td>1.567678e+06</td>\n",
       "    </tr>\n",
       "    <tr>\n",
       "      <th>CSEM</th>\n",
       "      <td>1.806825e+07</td>\n",
       "    </tr>\n",
       "    <tr>\n",
       "      <th>EAWAG</th>\n",
       "      <td>7.461922e+07</td>\n",
       "    </tr>\n",
       "    <tr>\n",
       "      <th>EHB</th>\n",
       "      <td>2.086572e+06</td>\n",
       "    </tr>\n",
       "    <tr>\n",
       "      <th>EMPA</th>\n",
       "      <td>5.857452e+07</td>\n",
       "    </tr>\n",
       "    <tr>\n",
       "      <th>EOC</th>\n",
       "      <td>5.067172e+06</td>\n",
       "    </tr>\n",
       "    <tr>\n",
       "      <th>EPFL</th>\n",
       "      <td>1.175316e+09</td>\n",
       "    </tr>\n",
       "    <tr>\n",
       "      <th>ETHZ</th>\n",
       "      <td>1.635597e+09</td>\n",
       "    </tr>\n",
       "    <tr>\n",
       "      <th>FFHS</th>\n",
       "      <td>1.200000e+04</td>\n",
       "    </tr>\n",
       "    <tr>\n",
       "      <th>FHKD</th>\n",
       "      <td>1.090280e+06</td>\n",
       "    </tr>\n",
       "    <tr>\n",
       "      <th>FHNW</th>\n",
       "      <td>4.277191e+07</td>\n",
       "    </tr>\n",
       "    <tr>\n",
       "      <th>FHO</th>\n",
       "      <td>4.437056e+06</td>\n",
       "    </tr>\n",
       "    <tr>\n",
       "      <th>FIBL</th>\n",
       "      <td>7.442410e+06</td>\n",
       "    </tr>\n",
       "    <tr>\n",
       "      <th>FINST</th>\n",
       "      <td>9.256736e+06</td>\n",
       "    </tr>\n",
       "    <tr>\n",
       "      <th>FMI</th>\n",
       "      <td>4.022914e+07</td>\n",
       "    </tr>\n",
       "    <tr>\n",
       "      <th>FORS</th>\n",
       "      <td>3.473582e+07</td>\n",
       "    </tr>\n",
       "    <tr>\n",
       "      <th>FP</th>\n",
       "      <td>1.116867e+08</td>\n",
       "    </tr>\n",
       "    <tr>\n",
       "      <th>FR</th>\n",
       "      <td>4.575262e+08</td>\n",
       "    </tr>\n",
       "    <tr>\n",
       "      <th>FTL</th>\n",
       "      <td>8.000000e+03</td>\n",
       "    </tr>\n",
       "    <tr>\n",
       "      <th>FUS</th>\n",
       "      <td>6.595600e+04</td>\n",
       "    </tr>\n",
       "    <tr>\n",
       "      <th>GE</th>\n",
       "      <td>1.838237e+09</td>\n",
       "    </tr>\n",
       "    <tr>\n",
       "      <th>HEPBEJUNE</th>\n",
       "      <td>6.273800e+05</td>\n",
       "    </tr>\n",
       "    <tr>\n",
       "      <th>...</th>\n",
       "      <td>...</td>\n",
       "    </tr>\n",
       "    <tr>\n",
       "      <th>LA</th>\n",
       "      <td>1.183291e+09</td>\n",
       "    </tr>\n",
       "    <tr>\n",
       "      <th>LU</th>\n",
       "      <td>3.998168e+07</td>\n",
       "    </tr>\n",
       "    <tr>\n",
       "      <th>NE</th>\n",
       "      <td>3.832046e+08</td>\n",
       "    </tr>\n",
       "    <tr>\n",
       "      <th>PHBern</th>\n",
       "      <td>1.990390e+06</td>\n",
       "    </tr>\n",
       "    <tr>\n",
       "      <th>PHFHNW</th>\n",
       "      <td>3.476142e+06</td>\n",
       "    </tr>\n",
       "    <tr>\n",
       "      <th>PHGR</th>\n",
       "      <td>6.146130e+05</td>\n",
       "    </tr>\n",
       "    <tr>\n",
       "      <th>PHLU</th>\n",
       "      <td>1.979281e+06</td>\n",
       "    </tr>\n",
       "    <tr>\n",
       "      <th>PHSG</th>\n",
       "      <td>2.098387e+06</td>\n",
       "    </tr>\n",
       "    <tr>\n",
       "      <th>PHSH</th>\n",
       "      <td>1.766910e+05</td>\n",
       "    </tr>\n",
       "    <tr>\n",
       "      <th>PHSZ</th>\n",
       "      <td>9.365510e+05</td>\n",
       "    </tr>\n",
       "    <tr>\n",
       "      <th>PHTG</th>\n",
       "      <td>1.526446e+06</td>\n",
       "    </tr>\n",
       "    <tr>\n",
       "      <th>PHVS</th>\n",
       "      <td>4.254980e+05</td>\n",
       "    </tr>\n",
       "    <tr>\n",
       "      <th>PHZFH</th>\n",
       "      <td>3.298346e+06</td>\n",
       "    </tr>\n",
       "    <tr>\n",
       "      <th>PHZG</th>\n",
       "      <td>4.957150e+05</td>\n",
       "    </tr>\n",
       "    <tr>\n",
       "      <th>PSI</th>\n",
       "      <td>1.152690e+08</td>\n",
       "    </tr>\n",
       "    <tr>\n",
       "      <th>SG</th>\n",
       "      <td>6.919495e+07</td>\n",
       "    </tr>\n",
       "    <tr>\n",
       "      <th>SHLR</th>\n",
       "      <td>4.296000e+05</td>\n",
       "    </tr>\n",
       "    <tr>\n",
       "      <th>SIB</th>\n",
       "      <td>1.158322e+07</td>\n",
       "    </tr>\n",
       "    <tr>\n",
       "      <th>SIK-ISEA</th>\n",
       "      <td>4.649550e+06</td>\n",
       "    </tr>\n",
       "    <tr>\n",
       "      <th>SPF</th>\n",
       "      <td>1.944211e+06</td>\n",
       "    </tr>\n",
       "    <tr>\n",
       "      <th>STHB</th>\n",
       "      <td>1.730000e+04</td>\n",
       "    </tr>\n",
       "    <tr>\n",
       "      <th>SUPSI</th>\n",
       "      <td>2.404008e+07</td>\n",
       "    </tr>\n",
       "    <tr>\n",
       "      <th>USI</th>\n",
       "      <td>8.497055e+07</td>\n",
       "    </tr>\n",
       "    <tr>\n",
       "      <th>WSL</th>\n",
       "      <td>4.836039e+07</td>\n",
       "    </tr>\n",
       "    <tr>\n",
       "      <th>ZFH</th>\n",
       "      <td>4.484345e+07</td>\n",
       "    </tr>\n",
       "    <tr>\n",
       "      <th>ZH</th>\n",
       "      <td>1.826843e+09</td>\n",
       "    </tr>\n",
       "    <tr>\n",
       "      <th>eteorolog. Observatorium Davos - PMOD</th>\n",
       "      <td>1.209844e+07</td>\n",
       "    </tr>\n",
       "    <tr>\n",
       "      <th>orschungskommission SAGW</th>\n",
       "      <td>1.000000e+05</td>\n",
       "    </tr>\n",
       "    <tr>\n",
       "      <th>tiftung Bern - RWS</th>\n",
       "      <td>5.695790e+05</td>\n",
       "    </tr>\n",
       "    <tr>\n",
       "      <th>und Asthmaforschung - SIAF</th>\n",
       "      <td>1.916996e+07</td>\n",
       "    </tr>\n",
       "  </tbody>\n",
       "</table>\n",
       "<p>75 rows × 1 columns</p>\n",
       "</div>"
      ],
      "text/plain": [
       "                                       Approved Amount\n",
       "Canton                                                \n",
       "AGS                                       3.311572e+07\n",
       "AORI                                      3.435621e+06\n",
       "ASP                                       1.593170e+05\n",
       "ASPIT                                     1.074981e+07\n",
       "BE                                        1.519373e+09\n",
       "BFH                                       3.102870e+07\n",
       "BITG                                      2.492535e+06\n",
       "BS                                        1.352251e+09\n",
       "CREALP                                    1.567678e+06\n",
       "CSEM                                      1.806825e+07\n",
       "EAWAG                                     7.461922e+07\n",
       "EHB                                       2.086572e+06\n",
       "EMPA                                      5.857452e+07\n",
       "EOC                                       5.067172e+06\n",
       "EPFL                                      1.175316e+09\n",
       "ETHZ                                      1.635597e+09\n",
       "FFHS                                      1.200000e+04\n",
       "FHKD                                      1.090280e+06\n",
       "FHNW                                      4.277191e+07\n",
       "FHO                                       4.437056e+06\n",
       "FIBL                                      7.442410e+06\n",
       "FINST                                     9.256736e+06\n",
       "FMI                                       4.022914e+07\n",
       "FORS                                      3.473582e+07\n",
       "FP                                        1.116867e+08\n",
       "FR                                        4.575262e+08\n",
       "FTL                                       8.000000e+03\n",
       "FUS                                       6.595600e+04\n",
       "GE                                        1.838237e+09\n",
       "HEPBEJUNE                                 6.273800e+05\n",
       "...                                                ...\n",
       "LA                                        1.183291e+09\n",
       "LU                                        3.998168e+07\n",
       "NE                                        3.832046e+08\n",
       "PHBern                                    1.990390e+06\n",
       "PHFHNW                                    3.476142e+06\n",
       "PHGR                                      6.146130e+05\n",
       "PHLU                                      1.979281e+06\n",
       "PHSG                                      2.098387e+06\n",
       "PHSH                                      1.766910e+05\n",
       "PHSZ                                      9.365510e+05\n",
       "PHTG                                      1.526446e+06\n",
       "PHVS                                      4.254980e+05\n",
       "PHZFH                                     3.298346e+06\n",
       "PHZG                                      4.957150e+05\n",
       "PSI                                       1.152690e+08\n",
       "SG                                        6.919495e+07\n",
       "SHLR                                      4.296000e+05\n",
       "SIB                                       1.158322e+07\n",
       "SIK-ISEA                                  4.649550e+06\n",
       "SPF                                       1.944211e+06\n",
       "STHB                                      1.730000e+04\n",
       "SUPSI                                     2.404008e+07\n",
       "USI                                       8.497055e+07\n",
       "WSL                                       4.836039e+07\n",
       "ZFH                                       4.484345e+07\n",
       "ZH                                        1.826843e+09\n",
       "eteorolog. Observatorium Davos - PMOD     1.209844e+07\n",
       "orschungskommission SAGW                  1.000000e+05\n",
       "tiftung Bern - RWS                        5.695790e+05\n",
       "und Asthmaforschung - SIAF                1.916996e+07\n",
       "\n",
       "[75 rows x 1 columns]"
      ]
     },
     "execution_count": 36,
     "metadata": {},
     "output_type": "execute_result"
    }
   ],
   "source": [
    "data_uni.groupby('Canton').sum()"
   ]
  },
  {
   "cell_type": "code",
   "execution_count": null,
   "metadata": {
    "collapsed": true
   },
   "outputs": [],
   "source": []
  },
  {
   "cell_type": "code",
   "execution_count": null,
   "metadata": {
    "collapsed": true
   },
   "outputs": [],
   "source": []
  },
  {
   "cell_type": "code",
   "execution_count": null,
   "metadata": {
    "collapsed": true
   },
   "outputs": [],
   "source": []
  },
  {
   "cell_type": "code",
   "execution_count": null,
   "metadata": {
    "collapsed": true
   },
   "outputs": [],
   "source": [
    "#import the topojson map\n",
    "topo_path = r'ch-cantons.topojson.json'\n",
    "swiss_map = folium.Map(location=[47, 8],\n",
    "                   tiles='Mapbox Bright', zoom_start=2)"
   ]
  },
  {
   "cell_type": "code",
   "execution_count": null,
   "metadata": {
    "collapsed": true
   },
   "outputs": [],
   "source": [
    "#To use a Dataframe (in the DF, I used the id as the _Cantons_ and I put random values inside the _Values_ field), you need to do this:\n",
    "swiss_map.choropleth(geo_path=cantons_geo, \n",
    "                     data=df,\n",
    "                     columns=['Cantons', 'Values'],\n",
    "                     key_on='feature.id',\n",
    "                     topojson='objects.cantons',\n",
    "                     fill_color='YlGn',\n",
    "                     legend_name = 'Random numbers'\n",
    "                    )\n",
    "\n",
    "#In you DataFrame, you must be sure that *all the id present in the topojson are also present in the column of the DF*. If it's not the case, just add the missing ids.."
   ]
  },
  {
   "cell_type": "code",
   "execution_count": null,
   "metadata": {
    "collapsed": true
   },
   "outputs": [],
   "source": []
  }
 ],
 "metadata": {
  "anaconda-cloud": {},
  "kernelspec": {
   "display_name": "Python [conda root]",
   "language": "python",
   "name": "conda-root-py"
  },
  "language_info": {
   "codemirror_mode": {
    "name": "ipython",
    "version": 3
   },
   "file_extension": ".py",
   "mimetype": "text/x-python",
   "name": "python",
   "nbconvert_exporter": "python",
   "pygments_lexer": "ipython3",
   "version": "3.5.2"
  }
 },
 "nbformat": 4,
 "nbformat_minor": 1
}
